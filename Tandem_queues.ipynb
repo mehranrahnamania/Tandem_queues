{
  "nbformat": 4,
  "nbformat_minor": 0,
  "metadata": {
    "colab": {
      "private_outputs": true,
      "provenance": []
    },
    "kernelspec": {
      "name": "python3",
      "display_name": "Python 3"
    },
    "language_info": {
      "name": "python"
    }
  },
  "cells": [
    {
      "cell_type": "code",
      "source": [
        "!pip install simpy"
      ],
      "metadata": {
        "id": "czkY90JIBvUB"
      },
      "execution_count": null,
      "outputs": []
    },
    {
      "cell_type": "code",
      "source": [
        "import simpy\n",
        "import random\n",
        "import statistics\n",
        "\n",
        "wait_times = []\n",
        "\n",
        "class network(object):\n",
        "    def __init__(self, env, num_servers_1, num_servers_2, service_rate_1, service_rate_2):\n",
        "        self.env = env\n",
        "        self.server_1 = simpy.Resource(env, num_servers_1)\n",
        "        self.server_2 = simpy.Resource(env, num_servers_2)\n",
        "        self.service_rate_1 = service_rate_1\n",
        "        self.service_rate_2 = service_rate_2\n",
        "\n",
        "    def Queue_1(self, customer):\n",
        "        yield self.env.timeout(random.expovariate(self.service_rate_1))\n",
        "\n",
        "    def Queue_2(self, customer):\n",
        "        yield self.env.timeout(random.expovariate(self.service_rate_1))\n",
        "\n",
        "\n",
        "def go_to_queues(env, customer, network):\n",
        "    arrival_time = env.now\n",
        "\n",
        "    with network.server_1.request() as request:\n",
        "        yield request\n",
        "        yield env.process(network.Queue_1(customer))\n",
        "\n",
        "\n",
        "    with network.server_2.request() as request:\n",
        "        yield request\n",
        "        yield env.process(network.Queue_2(customer))\n",
        "\n",
        "    wait_times.append(env.now - arrival_time)\n",
        "\n",
        "\n",
        "def run_queues(env, arrival_rate, num_servers_1=1, num_servers_2=1, service_rate_1=1, service_rate_2=1):\n",
        "    net = network(env, num_servers_1, num_servers_2, service_rate_1, service_rate_2)\n",
        "\n",
        "    while True:\n",
        "        yield env.timeout(random.expovariate(arrival_rate))\n",
        "\n",
        "        customer =+ 1\n",
        "        env.process(go_to_queues(env, customer, net))\n",
        "\n",
        "\n",
        "def get_average_wait_time(wait_times):\n",
        "    average_wait = statistics.mean(wait_times)\n",
        "    return average_wait\n",
        "\n",
        "\n",
        "def main(arrival_rate=1, service_rate_1=2, service_rate_2=2, num_servers_1=1, num_servers_2=1):\n",
        "    if arrival_rate >= service_rate_1*num_servers_1 or arrival_rate >= service_rate_2*num_servers_2:\n",
        "        print(\"for these rates the system isn't stable in steady state.\")\n",
        "\n",
        "    # Run the simulation\n",
        "    env = simpy.Environment()\n",
        "    env.process(run_queues(env, arrival_rate, num_servers_1, num_servers_2, service_rate_1, service_rate_2))\n",
        "    env.run(until=10**5)\n",
        "\n",
        "    # View the results\n",
        "    ave = get_average_wait_time(wait_times)\n",
        "    print(\n",
        "        \"Running simulation...\",\n",
        "        f\"\\nThe average wait time is {ave}.\",\n",
        "    )"
      ],
      "metadata": {
        "id": "ExiPovcf1zLa"
      },
      "execution_count": null,
      "outputs": []
    },
    {
      "cell_type": "code",
      "source": [
        "main()\n"
      ],
      "metadata": {
        "id": "DBxi5uFf7C-D"
      },
      "execution_count": null,
      "outputs": []
    },
    {
      "cell_type": "code",
      "source": [],
      "metadata": {
        "id": "H4AITYaSXMdx"
      },
      "execution_count": null,
      "outputs": []
    }
  ]
}